{
  "nbformat": 4,
  "nbformat_minor": 0,
  "metadata": {
    "colab": {
      "provenance": [],
      "authorship_tag": "ABX9TyMIdy/UFu0QltdXA7Bz7wMg",
      "include_colab_link": true
    },
    "kernelspec": {
      "name": "python3",
      "display_name": "Python 3"
    },
    "language_info": {
      "name": "python"
    }
  },
  "cells": [
    {
      "cell_type": "markdown",
      "metadata": {
        "id": "view-in-github",
        "colab_type": "text"
      },
      "source": [
        "<a href=\"https://colab.research.google.com/github/ForuzanShafiei/Article_drf/blob/master/mychatbot.ipynb\" target=\"_parent\"><img src=\"https://colab.research.google.com/assets/colab-badge.svg\" alt=\"Open In Colab\"/></a>"
      ]
    },
    {
      "cell_type": "code",
      "execution_count": 12,
      "metadata": {
        "colab": {
          "base_uri": "https://localhost:8080/"
        },
        "id": "6Ki53eheNVqZ",
        "outputId": "bc6d1e90-6717-42ae-f959-40e684393b7f"
      },
      "outputs": [
        {
          "output_type": "stream",
          "name": "stdout",
          "text": [
            "ask for some thing: یک تصویر از زمین بدون انسان\n",
            "متأسفانه، من نمی‌توانم تصاویری ارسال کنم یا مشاهده کنم. اما می‌توانم درباره تصویری از زمین بدون انسان صحبت کنم. اگر تصور کنید، زمین بدون رد پای انسان، طبیعت بکر و زیبایی را به نمایش می‌گذارد: جنگل‌های سرسبز، کوه‌های مرتفع، دریاها و اقیانوس‌های آبی و آسمان پاک. این تصویر می‌تواند نشان‌دهنده تنوع زیستی و زیبایی‌های طبیعی سیاره‌مان باشد. آیا موضوع خاصی در این زمینه مد نظر دارید که بخواهم بیشتر توضیح بدهم؟\n"
          ]
        }
      ],
      "source": [
        "import requests as req\n",
        "\n",
        "text = input(\"ask for some thing: \")\n",
        "out = req.get(\"http://5.161.91.18/chat?text=\"+text)\n",
        "print(out.json())"
      ]
    }
  ]
}